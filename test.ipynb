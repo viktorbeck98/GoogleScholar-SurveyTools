{
 "cells": [
  {
   "cell_type": "code",
   "execution_count": 1,
   "metadata": {},
   "outputs": [],
   "source": [
    "from utils import *"
   ]
  },
  {
   "cell_type": "code",
   "execution_count": 10,
   "metadata": {},
   "outputs": [],
   "source": [
    "new_titles = get_new_titles_since_last_search_from_json(\"_raw_keyword_search.json\", \"_raw_keyword_search_NR2.json\",0.65)"
   ]
  },
  {
   "cell_type": "code",
   "execution_count": 11,
   "metadata": {},
   "outputs": [
    {
     "name": "stdout",
     "output_type": "stream",
     "text": [
      "31\n",
      "chatting with logs: an exploratory study on finetuning llms for logql\n",
      "adaptivelog: an adaptive log analysis framework with the collaboration of large and small language model\n",
      "logbabylon: a unified framework for cross-log file integration and analysis\n",
      "llm integration to log streams\n",
      "llmelog: an approach for anomaly detection based on llm-enriched log events\n",
      "large language models and unsupervised feature learning: implications for log analysis\n",
      "secencoder: logs are all you need in security\n",
      "leveraging large language models for system log analysis-fault troubleshooting radio units using log data\n",
      "llm application for knowledge extraction from networking log files\n",
      "log sculptor: making logs great again\n",
      "analyzing logs of large-scale software systems using time curves visualization\n",
      "an evaluation of log parsing with chatgpt\n",
      "logai: a library for log analytics and intelligence\n",
      "ssadlog: whole lifecycle tuning anomaly detection with small sample logs\n",
      "splash: a semi structured parser for logs assisted by human feedback\n",
      "lognotion: highlighting massive logs to assist human reading and decision making\n",
      "\"give me the code\" -- log analysis of first-year cs students' interactions with gpt\n",
      "anomaly detection on interleaved log data with semantic association mining on log-entity graph\n",
      "practitioners' expectations on log anomaly detection\n",
      "logert: stable log template mining method based on evolving re-search trees\n",
      "from logs to learning: applying machine learning to instructor intervention in cybersecurity exercises\n",
      "board 289: from logs to learning: applying machine learning to instructor intervention in cybersecurity exercises\n",
      "cybersecurity-aware log management system for critical water infrastructures\n",
      "log: a local-to-global optimization approach for retrieval-based explainable multi-hop question answering\n",
      "predicting data exfiltration using supervised machine learning based on tactics mapping from threat reports and event logs\n",
      "threat detection framework based on industrial internet of things logs\n",
      "a little depth goes a long way: the expressive power of log-depth transformers\n",
      "unsupervised time series anomaly detection using nlp for 5g base-station tdd scheduler logs\n",
      "extraction of cyber threat intelligence from raw log data\n",
      "unveiling hidden patterns in t-pot honeypot logs: a latent topic analysis\n",
      "analisi e ottimizzazione dei processi produttivi tramite architettura basata su ai generativa e knowledge base graph: l'uso di llm ad agenti per l'analisi log-driven\n"
     ]
    }
   ],
   "source": [
    "print(len(new_titles))\n",
    "_ = [print(t) for t in new_titles]"
   ]
  }
 ],
 "metadata": {
  "kernelspec": {
   "display_name": ".venv",
   "language": "python",
   "name": "python3"
  },
  "language_info": {
   "codemirror_mode": {
    "name": "ipython",
    "version": 3
   },
   "file_extension": ".py",
   "mimetype": "text/x-python",
   "name": "python",
   "nbconvert_exporter": "python",
   "pygments_lexer": "ipython3",
   "version": "3.12.3"
  }
 },
 "nbformat": 4,
 "nbformat_minor": 2
}
